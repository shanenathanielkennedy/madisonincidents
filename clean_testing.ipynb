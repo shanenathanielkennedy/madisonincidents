{
 "cells": [
  {
   "cell_type": "code",
   "execution_count": 61,
   "id": "8a05daf1",
   "metadata": {},
   "outputs": [],
   "source": [
    "import pandas as pd\n",
    "import re \n",
    "#import datetime as dt"
   ]
  },
  {
   "cell_type": "code",
   "execution_count": 6,
   "id": "4657b826",
   "metadata": {},
   "outputs": [],
   "source": [
    "df = pd.read_csv('incident_data.csv')"
   ]
  },
  {
   "cell_type": "code",
   "execution_count": 38,
   "id": "dd4bb2c1",
   "metadata": {},
   "outputs": [
    {
     "data": {
      "text/plain": [
       "date           datetime64[ns]\n",
       "incident               object\n",
       "address                object\n",
       "officer                object\n",
       "casenumber             object\n",
       "updated                object\n",
       "link                   object\n",
       "description            object\n",
       "len_desc                int64\n",
       "dtype: object"
      ]
     },
     "execution_count": 38,
     "metadata": {},
     "output_type": "execute_result"
    }
   ],
   "source": [
    "# type everything correctly\n",
    "df[\"date\"] = pd.to_datetime(df[\"date\"])\n",
    "df.dtypes"
   ]
  },
  {
   "cell_type": "code",
   "execution_count": 64,
   "id": "69407962",
   "metadata": {},
   "outputs": [
    {
     "data": {
      "text/plain": [
       "array(['P.O.', 'Unspecified', 'Sgt.', 'Lt.', 'Public Information Officer',\n",
       "       'Capt.'], dtype=object)"
      ]
     },
     "execution_count": 64,
     "metadata": {},
     "output_type": "execute_result"
    }
   ],
   "source": [
    "# To find officer type, possibly split by last period, check if PIO, PO, or LT, capt or just use re.findall()/re.sub()\n",
    "# probably use re.sub() to \n",
    "def officer_type(officername):\n",
    "    officer_prefixes = [\"PIO\", \"Sgt.\", \"Lt.\", \"Capt.\", \"P.O.\"]\n",
    "    split_name = officername.split(\" \")\n",
    "    prefix = split_name[0]\n",
    "    if prefix in officer_prefixes:\n",
    "        officer_type = prefix\n",
    "    else:\n",
    "        officer_type = \"Unspecified\"\n",
    "    return officer_type\n",
    "\n",
    "    #return split_name, prefix\n",
    "\n",
    "df[\"officer_type\"] = df[\"officer\"].apply(officer_type)\n",
    "df[\"officer_type\"] = df[\"officer_type\"].str.replace(\"PIO\", \"Public Information Officer\")\n",
    "df[\"officer_type\"].unique()\n",
    "# replace all po type in string\n",
    "# remove type and "
   ]
  },
  {
   "cell_type": "code",
   "execution_count": 35,
   "id": "bce0451a",
   "metadata": {},
   "outputs": [
    {
     "data": {
      "text/plain": [
       "'10:32 AM by P.O. Hunter Lisko'"
      ]
     },
     "execution_count": 35,
     "metadata": {},
     "output_type": "execute_result"
    }
   ],
   "source": [
    "# Parse Release Time from Description, remove last line with officer info\n",
    "#df[\"description\"][0].split(\"Released \")[-1].split(\"at \")[-1]"
   ]
  },
  {
   "cell_type": "code",
   "execution_count": 24,
   "id": "76b9e83b",
   "metadata": {},
   "outputs": [
    {
     "data": {
      "text/plain": [
       "float"
      ]
     },
     "execution_count": 24,
     "metadata": {},
     "output_type": "execute_result"
    }
   ],
   "source": [
    "# Remove NaN values\n"
   ]
  },
  {
   "cell_type": "code",
   "execution_count": 20,
   "id": "8824d43b",
   "metadata": {},
   "outputs": [
    {
     "data": {
      "text/plain": [
       "0        784\n",
       "1       2550\n",
       "2       1211\n",
       "3        950\n",
       "4        277\n",
       "        ... \n",
       "2133     417\n",
       "2134     706\n",
       "2135     641\n",
       "2136     418\n",
       "2137     445\n",
       "Name: len_desc, Length: 2138, dtype: int64"
      ]
     },
     "execution_count": 20,
     "metadata": {},
     "output_type": "execute_result"
    }
   ],
   "source": [
    "# Apply length to description\n",
    "df[\"len_desc\"] = df[\"description\"].apply(len)"
   ]
  },
  {
   "cell_type": "code",
   "execution_count": 12,
   "id": "589f50ea",
   "metadata": {},
   "outputs": [
    {
     "data": {
      "text/html": [
       "<div>\n",
       "<style scoped>\n",
       "    .dataframe tbody tr th:only-of-type {\n",
       "        vertical-align: middle;\n",
       "    }\n",
       "\n",
       "    .dataframe tbody tr th {\n",
       "        vertical-align: top;\n",
       "    }\n",
       "\n",
       "    .dataframe thead th {\n",
       "        text-align: right;\n",
       "    }\n",
       "</style>\n",
       "<table border=\"1\" class=\"dataframe\">\n",
       "  <thead>\n",
       "    <tr style=\"text-align: right;\">\n",
       "      <th></th>\n",
       "      <th>date</th>\n",
       "      <th>incident</th>\n",
       "      <th>address</th>\n",
       "      <th>officer</th>\n",
       "      <th>casenumber</th>\n",
       "      <th>updated</th>\n",
       "      <th>link</th>\n",
       "      <th>description</th>\n",
       "    </tr>\n",
       "  </thead>\n",
       "  <tbody>\n",
       "    <tr>\n",
       "      <th>count</th>\n",
       "      <td>2138</td>\n",
       "      <td>2138</td>\n",
       "      <td>2138</td>\n",
       "      <td>2138</td>\n",
       "      <td>2138</td>\n",
       "      <td>305</td>\n",
       "      <td>2138</td>\n",
       "      <td>2138</td>\n",
       "    </tr>\n",
       "    <tr>\n",
       "      <th>unique</th>\n",
       "      <td>776</td>\n",
       "      <td>39</td>\n",
       "      <td>1747</td>\n",
       "      <td>85</td>\n",
       "      <td>1966</td>\n",
       "      <td>238</td>\n",
       "      <td>2005</td>\n",
       "      <td>2004</td>\n",
       "    </tr>\n",
       "    <tr>\n",
       "      <th>top</th>\n",
       "      <td>07/06/2020</td>\n",
       "      <td>Weapons Violation</td>\n",
       "      <td>400 block W. Gilman St.</td>\n",
       "      <td>PIO Joel Despain</td>\n",
       "      <td>0000-000000</td>\n",
       "      <td>06/18/2020</td>\n",
       "      <td>https://www.cityofmadison.com/police/newsroom/...</td>\n",
       "      <td>Madison Police Officers responded to 200 N Fir...</td>\n",
       "    </tr>\n",
       "    <tr>\n",
       "      <th>freq</th>\n",
       "      <td>14</td>\n",
       "      <td>569</td>\n",
       "      <td>10</td>\n",
       "      <td>706</td>\n",
       "      <td>10</td>\n",
       "      <td>5</td>\n",
       "      <td>2</td>\n",
       "      <td>2</td>\n",
       "    </tr>\n",
       "  </tbody>\n",
       "</table>\n",
       "</div>"
      ],
      "text/plain": [
       "              date           incident                  address  \\\n",
       "count         2138               2138                     2138   \n",
       "unique         776                 39                     1747   \n",
       "top     07/06/2020  Weapons Violation  400 block W. Gilman St.   \n",
       "freq            14                569                       10   \n",
       "\n",
       "                 officer   casenumber     updated  \\\n",
       "count               2138         2138         305   \n",
       "unique                85         1966         238   \n",
       "top     PIO Joel Despain  0000-000000  06/18/2020   \n",
       "freq                 706           10           5   \n",
       "\n",
       "                                                     link  \\\n",
       "count                                                2138   \n",
       "unique                                               2005   \n",
       "top     https://www.cityofmadison.com/police/newsroom/...   \n",
       "freq                                                    2   \n",
       "\n",
       "                                              description  \n",
       "count                                                2138  \n",
       "unique                                               2004  \n",
       "top     Madison Police Officers responded to 200 N Fir...  \n",
       "freq                                                    2  "
      ]
     },
     "execution_count": 12,
     "metadata": {},
     "output_type": "execute_result"
    }
   ],
   "source": [
    "# TO DO:\n",
    "# What to do with NaN in updated?\n",
    "# Pull stuff from description ( parse? length)\n",
    "# Most common keywords in description?\n",
    "# Build function to lengthen name of PO/ make it a new column\n",
    "\n",
    "\n",
    "\n",
    "\n",
    "\n",
    "\n",
    "\n",
    "# TYPING\n",
    "# \tHour of Day would be cool\n",
    "# \tGeocoding\n",
    "# \tAnalysis of Decription,\n",
    "# \tDescription length\n",
    "# \tRemove Information? Maybe (for plots and desc)\n",
    "# \tFeature Engineering\n",
    "# \tDf[“violent”] 0 or 1 based on incident type\n",
    "# Df[“length_desc”]\n",
    "# typ e all of the data, datetimes, \n",
    "# Possibly make Columns of value_counts of type, neighborhood,\n",
    "\n",
    "\n",
    "\n",
    "# Possibly parse out the street? \n",
    "# Find KMLS or shapefiles for addresses\n"
   ]
  },
  {
   "cell_type": "code",
   "execution_count": null,
   "id": "2688a8a1",
   "metadata": {},
   "outputs": [],
   "source": []
  }
 ],
 "metadata": {
  "kernelspec": {
   "display_name": "Python 3 (ipykernel)",
   "language": "python",
   "name": "python3"
  },
  "language_info": {
   "codemirror_mode": {
    "name": "ipython",
    "version": 3
   },
   "file_extension": ".py",
   "mimetype": "text/x-python",
   "name": "python",
   "nbconvert_exporter": "python",
   "pygments_lexer": "ipython3",
   "version": "3.10.8"
  }
 },
 "nbformat": 4,
 "nbformat_minor": 5
}
