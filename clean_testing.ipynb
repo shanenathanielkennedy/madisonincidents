{
 "cells": [
  {
   "cell_type": "code",
   "execution_count": 1,
   "id": "8a05daf1",
   "metadata": {},
   "outputs": [],
   "source": [
    "import pandas as pd\n",
    "import re \n",
    "#import datetime as dt"
   ]
  },
  {
   "cell_type": "code",
   "execution_count": 2,
   "id": "4657b826",
   "metadata": {},
   "outputs": [],
   "source": [
    "df = pd.read_csv('incident_data.csv')"
   ]
  },
  {
   "cell_type": "code",
   "execution_count": 3,
   "id": "dd4bb2c1",
   "metadata": {},
   "outputs": [],
   "source": [
    "# typing, converting date to dt obj\n",
    "df[\"date\"] = pd.to_datetime(df[\"date\"])"
   ]
  },
  {
   "cell_type": "code",
   "execution_count": 4,
   "id": "69407962",
   "metadata": {},
   "outputs": [
    {
     "name": "stderr",
     "output_type": "stream",
     "text": [
      "C:\\Users\\shane\\AppData\\Local\\Temp\\ipykernel_113436\\3740180151.py:14: FutureWarning: The default value of regex will change from True to False in a future version.\n",
      "  df[\"officer_type\"] = df[\"officer_type\"].str.replace(\"P.O.\", \"Police Officer\")\n",
      "C:\\Users\\shane\\AppData\\Local\\Temp\\ipykernel_113436\\3740180151.py:15: FutureWarning: The default value of regex will change from True to False in a future version.\n",
      "  df[\"officer_type\"] = df[\"officer_type\"].str.replace(\"Sgt.\", \"Sergeant\")\n",
      "C:\\Users\\shane\\AppData\\Local\\Temp\\ipykernel_113436\\3740180151.py:16: FutureWarning: The default value of regex will change from True to False in a future version.\n",
      "  df[\"officer_type\"] = df[\"officer_type\"].str.replace(\"Lt.\", \"Lieutenant\")\n",
      "C:\\Users\\shane\\AppData\\Local\\Temp\\ipykernel_113436\\3740180151.py:17: FutureWarning: The default value of regex will change from True to False in a future version.\n",
      "  df[\"officer_type\"] = df[\"officer_type\"].str.replace(\"Capt.\", \"Captain\")\n"
     ]
    },
    {
     "data": {
      "text/plain": [
       "array(['Police Officer', 'Unspecified', 'Sergeant', 'Lieutenant',\n",
       "       'Public Information Officer', 'Captain'], dtype=object)"
      ]
     },
     "execution_count": 4,
     "metadata": {},
     "output_type": "execute_result"
    }
   ],
   "source": [
    "# Making type of officer that released report into a new column\n",
    "def officer_type(officername):\n",
    "    officer_prefixes = [\"PIO\", \"Sgt.\", \"Lt.\", \"Capt.\", \"P.O.\"]\n",
    "    split_name = officername.split(\" \")\n",
    "    prefix = split_name[0]\n",
    "    if prefix in officer_prefixes:\n",
    "        officer_type = prefix\n",
    "    else:\n",
    "        officer_type = \"Unspecified\"\n",
    "    return officer_type\n",
    "\n",
    "df[\"officer_type\"] = df[\"officer\"].apply(officer_type)\n",
    "df[\"officer_type\"] = df[\"officer_type\"].str.replace(\"PIO\", \"Public Information Officer\")\n",
    "df[\"officer_type\"] = df[\"officer_type\"].str.replace(\"P.O.\", \"Police Officer\")\n",
    "df[\"officer_type\"] = df[\"officer_type\"].str.replace(\"Sgt.\", \"Sergeant\")\n",
    "df[\"officer_type\"] = df[\"officer_type\"].str.replace(\"Lt.\", \"Lieutenant\")\n",
    "df[\"officer_type\"] = df[\"officer_type\"].str.replace(\"Capt.\", \"Captain\")\n",
    "\n",
    "df[\"officer_type\"].unique()"
   ]
  },
  {
   "cell_type": "code",
   "execution_count": 5,
   "id": "bce0451a",
   "metadata": {},
   "outputs": [
    {
     "data": {
      "text/plain": [
       "0       On Sunday afternoon, Madison Police officers r...\n",
       "1       Recently, there has been an uptick in scams ta...\n",
       "2       Yesterday afternoon at approximately 2:00 p.m....\n",
       "3       As part of the Madison Police Department's com...\n",
       "4       Missing is a Theodore (TJ) Weege. TJ is a whit...\n",
       "                              ...                        \n",
       "2133    Two suspects were seen on surveillance video a...\n",
       "2134    The MPD is looking to identify a man who spoke...\n",
       "2135    On 11/26/19 at approximately 4:30pm, the 58 yo...\n",
       "2136    At approximately 3:09PM a vehicle was stolen i...\n",
       "2137     A downtown burglary and theft suspect was ide...\n",
       "Name: description, Length: 2138, dtype: object"
      ]
     },
     "execution_count": 5,
     "metadata": {},
     "output_type": "execute_result"
    }
   ],
   "source": [
    "# Parse Release Time from Description, remove last line with officer info\n",
    "\n",
    "## SHOULD COMBINE THESE INTO FORMAT DESCRIPTION FUNCTION< REMOVE ALL BACKSLASHES\n",
    "\n",
    "\n",
    "\n",
    "def parse_release(description):\n",
    "    time_and_officer = description.split(\"Released \")[-1].split(\"at \")[-1]\n",
    "    release_time = time_and_officer.split(\" by\")[0]\n",
    "    return release_time\n",
    "    \n",
    "    \n",
    "    \n",
    "df[\"release_time\"] = df[\"description\"].apply(parse_release)\n",
    "\n",
    "\n",
    "def remove_infoline(description):\n",
    "    description = ' '.join(description.split(\"\\n\\n\")[:-1])\n",
    "    return description\n",
    "\n",
    "df[\"description\"] = df[\"description\"].apply(remove_infoline)\n",
    "\n",
    "df[\"description\"]"
   ]
  },
  {
   "cell_type": "code",
   "execution_count": 10,
   "id": "9d58218e",
   "metadata": {},
   "outputs": [
    {
     "data": {
      "text/plain": [
       "'Recently, there has been an uptick in scams targeting elderly victims. This increasing trend has been seen in our community and others, and has many different forms. These scams take many forms, but are typically seen when the intended victim receives a call from someone pretending to be their grandchild or a loved one. The \"grandchild,\" in reality is the scammer, and often times will sound panicked and will be asking for help. The scammer will claim that they\\'ve been in a car accident, have been arrested, or were the victim of some kind of crime. The scammer will then ask for money, usually with a demand that the victim deliver this immediately and not talk to anyone about the situation. We have seen situations lately where the scammers will ask for cash, and send a \"courier,\" to collect the cash. Other circumstances will ask for bank or credit card information. MPD has also dealt with circumstances where the scammer asks for the victim to go to a Bitcoin ATM and complete a transaction that way. The Madison Police Department wants to remind the community of some general safety tips related to identification and prevention of these scams.\\nIf you are receiving a phone call from a number that you don\\'t know and the person on the other end claims to be a relative, it is ok to hang up and try to reach that relative at a known phone number. This pause can save you the headache of being scammed!\\n  If someone is claiming to be in legal trouble or at a jail, ask them which jail or facility they are at. Then, make a phone call to verify if that is the case by contacting that jail/law enforcement agency directly!\\n  If someone asks you to complete a financial transaction at a Bitcoin ATM or other similar ATM, and this is out of the ordinary, stop and verify all information before doing so. Make calls to the person you believe is asking for money, and make sure you know the implications of such transactions.\\n  Remember, no government official will ask you to pay fines or fees with gift cards from Amazon, Target, or any other store. If you have been directed to purchase these items, do not read off the codes for the cards to anyone over the phone.?\\n  Do not give out personally identifying information, such as a bank account number or Social Security Number to a person or website you don\\'t know and trust.  If you or someone you know has been a victim of this kind of a scam while in the City of Madison, please contact the Madison Police Department at 608-255-2345.'"
      ]
     },
     "execution_count": 10,
     "metadata": {},
     "output_type": "execute_result"
    }
   ],
   "source": [
    "df[\"description\"][1]"
   ]
  },
  {
   "cell_type": "code",
   "execution_count": 6,
   "id": "76b9e83b",
   "metadata": {},
   "outputs": [
    {
     "data": {
      "text/plain": [
       "0              NaN\n",
       "1              NaN\n",
       "2              NaN\n",
       "3              NaN\n",
       "4       11/07/2022\n",
       "           ...    \n",
       "2133           NaN\n",
       "2134           NaN\n",
       "2135    12/02/2019\n",
       "2136           NaN\n",
       "2137           NaN\n",
       "Name: updated, Length: 2138, dtype: object"
      ]
     },
     "execution_count": 6,
     "metadata": {},
     "output_type": "execute_result"
    }
   ],
   "source": [
    "# Remove NaN values\n",
    "df[\"updated\"]"
   ]
  },
  {
   "cell_type": "code",
   "execution_count": 7,
   "id": "8824d43b",
   "metadata": {},
   "outputs": [
    {
     "data": {
      "text/html": [
       "<div>\n",
       "<style scoped>\n",
       "    .dataframe tbody tr th:only-of-type {\n",
       "        vertical-align: middle;\n",
       "    }\n",
       "\n",
       "    .dataframe tbody tr th {\n",
       "        vertical-align: top;\n",
       "    }\n",
       "\n",
       "    .dataframe thead th {\n",
       "        text-align: right;\n",
       "    }\n",
       "</style>\n",
       "<table border=\"1\" class=\"dataframe\">\n",
       "  <thead>\n",
       "    <tr style=\"text-align: right;\">\n",
       "      <th></th>\n",
       "      <th>date</th>\n",
       "      <th>incident</th>\n",
       "      <th>address</th>\n",
       "      <th>officer</th>\n",
       "      <th>casenumber</th>\n",
       "      <th>updated</th>\n",
       "      <th>link</th>\n",
       "      <th>description</th>\n",
       "      <th>officer_type</th>\n",
       "      <th>release_time</th>\n",
       "      <th>len_desc</th>\n",
       "    </tr>\n",
       "  </thead>\n",
       "  <tbody>\n",
       "    <tr>\n",
       "      <th>0</th>\n",
       "      <td>2022-11-14</td>\n",
       "      <td>Damaged Property</td>\n",
       "      <td>400 block S. Midvale Blvd.</td>\n",
       "      <td>P.O. Hunter Lisko</td>\n",
       "      <td>2022-464356</td>\n",
       "      <td>NaN</td>\n",
       "      <td>https://www.cityofmadison.com/police/newsroom/...</td>\n",
       "      <td>On Sunday afternoon, Madison Police officers r...</td>\n",
       "      <td>Police Officer</td>\n",
       "      <td>10:32 AM</td>\n",
       "      <td>727</td>\n",
       "    </tr>\n",
       "    <tr>\n",
       "      <th>1</th>\n",
       "      <td>2022-11-09</td>\n",
       "      <td>Fraud</td>\n",
       "      <td>211 S. Carroll St.</td>\n",
       "      <td>P.O. Hunter Lisko</td>\n",
       "      <td>2022-000000</td>\n",
       "      <td>NaN</td>\n",
       "      <td>https://www.cityofmadison.com/police/newsroom/...</td>\n",
       "      <td>Recently, there has been an uptick in scams ta...</td>\n",
       "      <td>Police Officer</td>\n",
       "      <td>2:12 PM</td>\n",
       "      <td>2493</td>\n",
       "    </tr>\n",
       "    <tr>\n",
       "      <th>2</th>\n",
       "      <td>2022-11-09</td>\n",
       "      <td>Traffic Incident</td>\n",
       "      <td>Beltline/S. Midvale Blvd.</td>\n",
       "      <td>P.O. Hunter Lisko</td>\n",
       "      <td>2022-457354</td>\n",
       "      <td>NaN</td>\n",
       "      <td>https://www.cityofmadison.com/police/newsroom/...</td>\n",
       "      <td>Yesterday afternoon at approximately 2:00 p.m....</td>\n",
       "      <td>Police Officer</td>\n",
       "      <td>8:55 AM</td>\n",
       "      <td>1153</td>\n",
       "    </tr>\n",
       "    <tr>\n",
       "      <th>3</th>\n",
       "      <td>2022-11-08</td>\n",
       "      <td>Traffic Incident</td>\n",
       "      <td>900 block E. Washington Ave.</td>\n",
       "      <td>P.O. Hunter Lisko</td>\n",
       "      <td>2022-277138</td>\n",
       "      <td>NaN</td>\n",
       "      <td>https://www.cityofmadison.com/police/newsroom/...</td>\n",
       "      <td>As part of the Madison Police Department's com...</td>\n",
       "      <td>Police Officer</td>\n",
       "      <td>2:03 PM</td>\n",
       "      <td>894</td>\n",
       "    </tr>\n",
       "    <tr>\n",
       "      <th>4</th>\n",
       "      <td>2022-11-03</td>\n",
       "      <td>Missing Adult</td>\n",
       "      <td>West Side</td>\n",
       "      <td>Livia Novitzke</td>\n",
       "      <td>2022-446354</td>\n",
       "      <td>11/07/2022</td>\n",
       "      <td>https://www.cityofmadison.com/police/newsroom/...</td>\n",
       "      <td>Missing is a Theodore (TJ) Weege. TJ is a whit...</td>\n",
       "      <td>Unspecified</td>\n",
       "      <td>8:21 PM</td>\n",
       "      <td>226</td>\n",
       "    </tr>\n",
       "  </tbody>\n",
       "</table>\n",
       "</div>"
      ],
      "text/plain": [
       "        date          incident                       address  \\\n",
       "0 2022-11-14  Damaged Property    400 block S. Midvale Blvd.   \n",
       "1 2022-11-09             Fraud            211 S. Carroll St.   \n",
       "2 2022-11-09  Traffic Incident     Beltline/S. Midvale Blvd.   \n",
       "3 2022-11-08  Traffic Incident  900 block E. Washington Ave.   \n",
       "4 2022-11-03     Missing Adult                     West Side   \n",
       "\n",
       "             officer   casenumber     updated  \\\n",
       "0  P.O. Hunter Lisko  2022-464356         NaN   \n",
       "1  P.O. Hunter Lisko  2022-000000         NaN   \n",
       "2  P.O. Hunter Lisko  2022-457354         NaN   \n",
       "3  P.O. Hunter Lisko  2022-277138         NaN   \n",
       "4     Livia Novitzke  2022-446354  11/07/2022   \n",
       "\n",
       "                                                link  \\\n",
       "0  https://www.cityofmadison.com/police/newsroom/...   \n",
       "1  https://www.cityofmadison.com/police/newsroom/...   \n",
       "2  https://www.cityofmadison.com/police/newsroom/...   \n",
       "3  https://www.cityofmadison.com/police/newsroom/...   \n",
       "4  https://www.cityofmadison.com/police/newsroom/...   \n",
       "\n",
       "                                         description    officer_type  \\\n",
       "0  On Sunday afternoon, Madison Police officers r...  Police Officer   \n",
       "1  Recently, there has been an uptick in scams ta...  Police Officer   \n",
       "2  Yesterday afternoon at approximately 2:00 p.m....  Police Officer   \n",
       "3  As part of the Madison Police Department's com...  Police Officer   \n",
       "4  Missing is a Theodore (TJ) Weege. TJ is a whit...     Unspecified   \n",
       "\n",
       "  release_time  len_desc  \n",
       "0     10:32 AM       727  \n",
       "1      2:12 PM      2493  \n",
       "2      8:55 AM      1153  \n",
       "3      2:03 PM       894  \n",
       "4      8:21 PM       226  "
      ]
     },
     "execution_count": 7,
     "metadata": {},
     "output_type": "execute_result"
    }
   ],
   "source": [
    "# Apply length to description\n",
    "df[\"len_desc\"] = df[\"description\"].apply(len)\n",
    "df.head()"
   ]
  },
  {
   "cell_type": "code",
   "execution_count": 8,
   "id": "589f50ea",
   "metadata": {},
   "outputs": [],
   "source": [
    "# TO DO:\n",
    "# What to do with NaN in updated?\n",
    "# Pull stuff from description ( parse? length)\n",
    "# Most common keywords in description?\n",
    "# Build function to lengthen name of PO/ make it a new column\n",
    "\n",
    "\n",
    "# TYPING\n",
    "# \tHour of Day would be cool\n",
    "# \tGeocoding\n",
    "# \tAnalysis of Decription,\n",
    "# \tDescription length\n",
    "# \tRemove Information? Maybe (for plots and desc)\n",
    "# \tFeature Engineering\n",
    "# \tDf[“violent”] 0 or 1 based on incident type\n",
    "# Df[“length_desc”]\n",
    "# typ e all of the data, datetimes, \n",
    "# Possibly make Columns of value_counts of type, neighborhood,\n",
    "\n",
    "\n",
    "\n",
    "# Possibly parse out the street? \n",
    "# Find KMLS or shapefiles for addresses\n"
   ]
  },
  {
   "cell_type": "code",
   "execution_count": null,
   "id": "2688a8a1",
   "metadata": {},
   "outputs": [],
   "source": []
  }
 ],
 "metadata": {
  "kernelspec": {
   "display_name": "Python 3 (ipykernel)",
   "language": "python",
   "name": "python3"
  },
  "language_info": {
   "codemirror_mode": {
    "name": "ipython",
    "version": 3
   },
   "file_extension": ".py",
   "mimetype": "text/x-python",
   "name": "python",
   "nbconvert_exporter": "python",
   "pygments_lexer": "ipython3",
   "version": "3.10.9"
  }
 },
 "nbformat": 4,
 "nbformat_minor": 5
}
