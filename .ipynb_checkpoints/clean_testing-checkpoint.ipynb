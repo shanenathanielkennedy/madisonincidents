{
 "cells": [
  {
   "cell_type": "code",
   "execution_count": 1,
   "id": "8a05daf1",
   "metadata": {},
   "outputs": [],
   "source": [
    "import pandas as pd\n",
    "import re \n",
    "#import datetime as dt"
   ]
  },
  {
   "cell_type": "code",
   "execution_count": 2,
   "id": "4657b826",
   "metadata": {},
   "outputs": [],
   "source": [
    "df = pd.read_csv('incident_data.csv')"
   ]
  },
  {
   "cell_type": "code",
   "execution_count": 3,
   "id": "dd4bb2c1",
   "metadata": {},
   "outputs": [],
   "source": [
    "# typing, converting date to dt obj\n",
    "df[\"date\"] = pd.to_datetime(df[\"date\"])"
   ]
  },
  {
   "cell_type": "code",
   "execution_count": 4,
   "id": "69407962",
   "metadata": {},
   "outputs": [
    {
     "name": "stderr",
     "output_type": "stream",
     "text": [
      "C:\\Users\\shane\\AppData\\Local\\Temp\\ipykernel_122916\\3740180151.py:14: FutureWarning: The default value of regex will change from True to False in a future version.\n",
      "  df[\"officer_type\"] = df[\"officer_type\"].str.replace(\"P.O.\", \"Police Officer\")\n",
      "C:\\Users\\shane\\AppData\\Local\\Temp\\ipykernel_122916\\3740180151.py:15: FutureWarning: The default value of regex will change from True to False in a future version.\n",
      "  df[\"officer_type\"] = df[\"officer_type\"].str.replace(\"Sgt.\", \"Sergeant\")\n",
      "C:\\Users\\shane\\AppData\\Local\\Temp\\ipykernel_122916\\3740180151.py:16: FutureWarning: The default value of regex will change from True to False in a future version.\n",
      "  df[\"officer_type\"] = df[\"officer_type\"].str.replace(\"Lt.\", \"Lieutenant\")\n",
      "C:\\Users\\shane\\AppData\\Local\\Temp\\ipykernel_122916\\3740180151.py:17: FutureWarning: The default value of regex will change from True to False in a future version.\n",
      "  df[\"officer_type\"] = df[\"officer_type\"].str.replace(\"Capt.\", \"Captain\")\n"
     ]
    },
    {
     "data": {
      "text/plain": [
       "array(['Police Officer', 'Unspecified', 'Sergeant', 'Lieutenant',\n",
       "       'Public Information Officer', 'Captain'], dtype=object)"
      ]
     },
     "execution_count": 4,
     "metadata": {},
     "output_type": "execute_result"
    }
   ],
   "source": [
    "# Making type of officer that released report into a new column\n",
    "def officer_type(officername):\n",
    "    officer_prefixes = [\"PIO\", \"Sgt.\", \"Lt.\", \"Capt.\", \"P.O.\"]\n",
    "    split_name = officername.split(\" \")\n",
    "    prefix = split_name[0]\n",
    "    if prefix in officer_prefixes:\n",
    "        officer_type = prefix\n",
    "    else:\n",
    "        officer_type = \"Unspecified\"\n",
    "    return officer_type\n",
    "\n",
    "df[\"officer_type\"] = df[\"officer\"].apply(officer_type)\n",
    "df[\"officer_type\"] = df[\"officer_type\"].str.replace(\"PIO\", \"Public Information Officer\")\n",
    "df[\"officer_type\"] = df[\"officer_type\"].str.replace(\"P.O.\", \"Police Officer\")\n",
    "df[\"officer_type\"] = df[\"officer_type\"].str.replace(\"Sgt.\", \"Sergeant\")\n",
    "df[\"officer_type\"] = df[\"officer_type\"].str.replace(\"Lt.\", \"Lieutenant\")\n",
    "df[\"officer_type\"] = df[\"officer_type\"].str.replace(\"Capt.\", \"Captain\")\n",
    "\n",
    "df[\"officer_type\"].unique()"
   ]
  },
  {
   "cell_type": "code",
   "execution_count": 12,
   "id": "bce0451a",
   "metadata": {},
   "outputs": [
    {
     "data": {
      "text/plain": [
       "''"
      ]
     },
     "execution_count": 12,
     "metadata": {},
     "output_type": "execute_result"
    }
   ],
   "source": [
    "# Parse Release Time from Description, remove last line with officer info\n",
    "\n",
    "def parse_release(description):\n",
    "    time_and_officer = description.split(\"Released \")[-1].split(\"at \")[-1]\n",
    "    release_time = time_and_officer.split(\" by\")[0]\n",
    "    return release_time\n",
    "    \n",
    "    \n",
    "    \n",
    "df[\"release_time\"] = df[\"description\"].apply(parse_release)\n",
    "\n",
    "\n",
    "def remove_infoline(description):\n",
    "    description = ' '.join(description.split(\"\\n\\n\")[:-1])\n",
    "    return description\n",
    "\n",
    "df[\"description\"] = df[\"description\"].apply(remove_infoline)\n",
    "\n",
    "df[\"description\"]"
   ]
  },
  {
   "cell_type": "code",
   "execution_count": null,
   "id": "76b9e83b",
   "metadata": {},
   "outputs": [],
   "source": [
    "# Remove NaN values\n",
    "df[\"updated\"]"
   ]
  },
  {
   "cell_type": "code",
   "execution_count": null,
   "id": "8824d43b",
   "metadata": {},
   "outputs": [],
   "source": [
    "# Apply length to description\n",
    "df[\"len_desc\"] = df[\"description\"].apply(len)\n",
    "df.head()"
   ]
  },
  {
   "cell_type": "code",
   "execution_count": null,
   "id": "589f50ea",
   "metadata": {},
   "outputs": [],
   "source": [
    "# TO DO:\n",
    "# What to do with NaN in updated?\n",
    "# Pull stuff from description ( parse? length)\n",
    "# Most common keywords in description?\n",
    "# Build function to lengthen name of PO/ make it a new column\n",
    "\n",
    "\n",
    "# TYPING\n",
    "# \tHour of Day would be cool\n",
    "# \tGeocoding\n",
    "# \tAnalysis of Decription,\n",
    "# \tDescription length\n",
    "# \tRemove Information? Maybe (for plots and desc)\n",
    "# \tFeature Engineering\n",
    "# \tDf[“violent”] 0 or 1 based on incident type\n",
    "# Df[“length_desc”]\n",
    "# typ e all of the data, datetimes, \n",
    "# Possibly make Columns of value_counts of type, neighborhood,\n",
    "\n",
    "\n",
    "\n",
    "# Possibly parse out the street? \n",
    "# Find KMLS or shapefiles for addresses\n"
   ]
  },
  {
   "cell_type": "code",
   "execution_count": null,
   "id": "2688a8a1",
   "metadata": {},
   "outputs": [],
   "source": []
  }
 ],
 "metadata": {
  "kernelspec": {
   "display_name": "Python 3 (ipykernel)",
   "language": "python",
   "name": "python3"
  },
  "language_info": {
   "codemirror_mode": {
    "name": "ipython",
    "version": 3
   },
   "file_extension": ".py",
   "mimetype": "text/x-python",
   "name": "python",
   "nbconvert_exporter": "python",
   "pygments_lexer": "ipython3",
   "version": "3.10.9"
  }
 },
 "nbformat": 4,
 "nbformat_minor": 5
}
