{
 "cells": [
  {
   "cell_type": "code",
   "execution_count": 1,
   "id": "8edecc02",
   "metadata": {},
   "outputs": [],
   "source": [
    "from selenium import webdriver\n",
    "from selenium.webdriver.chrome.options import Options\n",
    "from selenium.webdriver.chrome.service import Service\n",
    "from selenium.common.exceptions import NoSuchElementException\n",
    "import matplotlib.pyplot as plt\n",
    "import pandas as pd\n",
    "import numpy as np\n",
    "import seaborn as sns\n",
    "import matplotlib, time, string, re"
   ]
  },
  {
   "cell_type": "code",
   "execution_count": null,
   "id": "84bf23f5",
   "metadata": {},
   "outputs": [],
   "source": [
    "# Setup of Webdriver and Selenium\n",
    "\n",
    "options = Options()\n",
    "#options.headless = True\n",
    "service = Service(executable_path=\"C:\\Program Files (x86)\\chromedriver.exe\")\n",
    "driver = webdriver.Chrome(options=options, service=service)"
   ]
  },
  {
   "cell_type": "code",
   "execution_count": null,
   "id": "cb653c39",
   "metadata": {},
   "outputs": [],
   "source": [
    "# The City of Madison states that the data in the incident reports are not necessarily reflective of \n",
    "#    total crime statistics, but instead are chosen by the Officer in Charge's discretion of\n",
    "#     what cases may have public interest.\n",
    "\n",
    "## WRITE THIS TO A FILE STORED ON MY PC, and then COMMENT OUT SCRAPER\n",
    "# Here we are populating the dataset by scraping each page's table.\n",
    "url = \"https://www.cityofmadison.com/police/newsroom/incidentreports/\"\n",
    "driver.get(url)\n",
    "data = []  \n",
    "\n",
    "for i in range(5): ## Change to while True to get whole dataset\n",
    "    main_content = driver.find_element(\"id\", \"main-content\")\n",
    "    #headers = main_content.find_elements(\"class name\", \"row.title.incident-reports\") # Used for reference \n",
    "    rows = main_content.find_elements(\"class name\", \"row.incident-reports\")[1:] # Slicing off header row \n",
    "    for row in rows:\n",
    "        date = row.find_element(\"class name\", \"date\")\n",
    "        incident = row.find_element(\"class name\", \"agency\")\n",
    "        casenumber = row.find_element(\"class name\", \"casenumber\")\n",
    "        address = row.find_element(\"class name\", \"address\")\n",
    "        officer = row.find_element(\"class name\", \"releasedby\")\n",
    "        updated = row.find_element(\"class name\", \"updated\")\n",
    "        link = row.find_element(\"tag name\", \"a\") # driver.get(link), description = Class name span5\n",
    "        #description = row.find_element(\"\").find_element(\"\")\n",
    "        data.append([date.text, incident.text, address.text, officer.text, \n",
    "                     casenumber.text, updated.text, link.get_attribute(\"href\")])\n",
    "    try:\n",
    "        next_button = main_content.find_element(\"link text\", \"Next »\")\n",
    "        next_button.click()\n",
    "    except NoSuchElementException:\n",
    "        break\n",
    "        \n",
    "        \n",
    "df = pd.DataFrame(data, columns=[\"date\", \"incident\",\"address\",\"officer\",\"casenumber\",\"updated\",\"link\"])\n",
    "\n",
    "df.to_csv(\"/data.csv\")"
   ]
  },
  {
   "cell_type": "code",
   "execution_count": null,
   "id": "5a06dd22",
   "metadata": {},
   "outputs": [],
   "source": [
    "# Here we are accessing each of the linked full incident-reports in order to \n",
    "#      pull the description and add it to the dataframe.\n",
    "\n",
    "description_list = []\n",
    "for link in df[\"link\"]:\n",
    "    driver.get(link)\n",
    "    description = driver.find_elements(\"class name\", \"span5\")[-1]\n",
    "    description_list.append(description.text)\n",
    "df[\"description\"] = description_list"
   ]
  },
  {
   "cell_type": "code",
   "execution_count": null,
   "id": "9f7bf311",
   "metadata": {},
   "outputs": [],
   "source": [
    "# First, Let us take a quick look at our dataset!\n",
    "df.head()\n",
    "df.set_index('casenumber')"
   ]
  },
  {
   "cell_type": "code",
   "execution_count": null,
   "id": "22a982ce",
   "metadata": {},
   "outputs": [],
   "source": [
    "df.iloc[4] # checking values of fifth entry"
   ]
  },
  {
   "cell_type": "code",
   "execution_count": null,
   "id": "3637884b",
   "metadata": {},
   "outputs": [],
   "source": [
    "df.isnull().sum() # Checking if there is any missing data"
   ]
  },
  {
   "cell_type": "code",
   "execution_count": null,
   "id": "44a5554a",
   "metadata": {},
   "outputs": [],
   "source": [
    "# Plotting most common incidents using Seaborn\n",
    "incident_counts = df[\"incident\"].value_counts()[:10] # could we use [~\"information\"] to remove from this graph?\n",
    "fig, ax = plt.subplots()\n",
    "sns.barplot(y=incident_counts.index, x=incident_counts.values, \n",
    "            width=0.95, alpha=0.75, orient=\"h\", ax=ax)\n",
    "plt.title(\"Top 10 Most Common Incidents\")\n",
    "plt.xlabel(\"Number of Occurences\")"
   ]
  },
  {
   "cell_type": "code",
   "execution_count": null,
   "id": "296dfa08",
   "metadata": {},
   "outputs": [],
   "source": []
  },
  {
   "cell_type": "code",
   "execution_count": null,
   "id": "22c83069",
   "metadata": {},
   "outputs": [],
   "source": []
  },
  {
   "cell_type": "code",
   "execution_count": null,
   "id": "6983cbe6",
   "metadata": {},
   "outputs": [],
   "source": []
  },
  {
   "cell_type": "code",
   "execution_count": null,
   "id": "deea2687",
   "metadata": {},
   "outputs": [],
   "source": []
  },
  {
   "cell_type": "code",
   "execution_count": null,
   "id": "2c6939c4",
   "metadata": {},
   "outputs": [],
   "source": []
  }
 ],
 "metadata": {
  "kernelspec": {
   "display_name": "Python 3 (ipykernel)",
   "language": "python",
   "name": "python3"
  },
  "language_info": {
   "codemirror_mode": {
    "name": "ipython",
    "version": 3
   },
   "file_extension": ".py",
   "mimetype": "text/x-python",
   "name": "python",
   "nbconvert_exporter": "python",
   "pygments_lexer": "ipython3",
   "version": "3.10.8"
  }
 },
 "nbformat": 4,
 "nbformat_minor": 5
}
