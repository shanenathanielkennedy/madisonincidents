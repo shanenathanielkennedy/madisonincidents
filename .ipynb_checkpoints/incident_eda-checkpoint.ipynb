{
 "cells": [
  {
   "cell_type": "code",
   "execution_count": 2,
   "id": "8edecc02",
   "metadata": {},
   "outputs": [],
   "source": [
    "import matplotlib.pyplot as plt\n",
    "import pandas as pd\n",
    "import numpy as np\n",
    "import seaborn as sns\n",
    "import matplotlib, time, string, re"
   ]
  },
  {
   "cell_type": "code",
   "execution_count": 11,
   "id": "84bf23f5",
   "metadata": {},
   "outputs": [],
   "source": [
    "# Note:\n",
    "# The City of Madison states that the data in the incident reports are not necessarily reflective of \n",
    "#    total crime statistics, but instead are chosen by the Officer in Charge's discretion of\n",
    "#     what cases may have public interest.\n",
    "\n",
    "df = pd.read_csv(\"incident_data.csv\")"
   ]
  },
  {
   "cell_type": "code",
   "execution_count": 12,
   "id": "cb653c39",
   "metadata": {},
   "outputs": [
    {
     "data": {
      "text/html": [
       "<div>\n",
       "<style scoped>\n",
       "    .dataframe tbody tr th:only-of-type {\n",
       "        vertical-align: middle;\n",
       "    }\n",
       "\n",
       "    .dataframe tbody tr th {\n",
       "        vertical-align: top;\n",
       "    }\n",
       "\n",
       "    .dataframe thead th {\n",
       "        text-align: right;\n",
       "    }\n",
       "</style>\n",
       "<table border=\"1\" class=\"dataframe\">\n",
       "  <thead>\n",
       "    <tr style=\"text-align: right;\">\n",
       "      <th></th>\n",
       "      <th>Unnamed: 0</th>\n",
       "      <th>date</th>\n",
       "      <th>incident</th>\n",
       "      <th>address</th>\n",
       "      <th>officer</th>\n",
       "      <th>casenumber</th>\n",
       "      <th>updated</th>\n",
       "      <th>link</th>\n",
       "      <th>description</th>\n",
       "    </tr>\n",
       "  </thead>\n",
       "  <tbody>\n",
       "    <tr>\n",
       "      <th>0</th>\n",
       "      <td>0</td>\n",
       "      <td>11/09/2022</td>\n",
       "      <td>Fraud</td>\n",
       "      <td>211 S. Carroll St.</td>\n",
       "      <td>P.O. Hunter Lisko</td>\n",
       "      <td>2022-000000</td>\n",
       "      <td>NaN</td>\n",
       "      <td>https://www.cityofmadison.com/police/newsroom/...</td>\n",
       "      <td>Recently, there has been an uptick in scams ta...</td>\n",
       "    </tr>\n",
       "    <tr>\n",
       "      <th>1</th>\n",
       "      <td>1</td>\n",
       "      <td>11/09/2022</td>\n",
       "      <td>Traffic Incident</td>\n",
       "      <td>Beltline/S. Midvale Blvd.</td>\n",
       "      <td>P.O. Hunter Lisko</td>\n",
       "      <td>2022-457354</td>\n",
       "      <td>NaN</td>\n",
       "      <td>https://www.cityofmadison.com/police/newsroom/...</td>\n",
       "      <td>Yesterday afternoon at approximately 2:00 p.m....</td>\n",
       "    </tr>\n",
       "    <tr>\n",
       "      <th>2</th>\n",
       "      <td>2</td>\n",
       "      <td>11/08/2022</td>\n",
       "      <td>Traffic Incident</td>\n",
       "      <td>900 block E. Washington Ave.</td>\n",
       "      <td>P.O. Hunter Lisko</td>\n",
       "      <td>2022-277138</td>\n",
       "      <td>NaN</td>\n",
       "      <td>https://www.cityofmadison.com/police/newsroom/...</td>\n",
       "      <td>As part of the Madison Police Department's com...</td>\n",
       "    </tr>\n",
       "    <tr>\n",
       "      <th>3</th>\n",
       "      <td>3</td>\n",
       "      <td>11/03/2022</td>\n",
       "      <td>Missing Adult</td>\n",
       "      <td>West Side</td>\n",
       "      <td>Livia Novitzke</td>\n",
       "      <td>2022-446354</td>\n",
       "      <td>11/07/2022</td>\n",
       "      <td>https://www.cityofmadison.com/police/newsroom/...</td>\n",
       "      <td>Missing is a Theodore (TJ) Weege. TJ is a whit...</td>\n",
       "    </tr>\n",
       "    <tr>\n",
       "      <th>4</th>\n",
       "      <td>4</td>\n",
       "      <td>11/07/2022</td>\n",
       "      <td>Robbery</td>\n",
       "      <td>4217 W. Beltline Hwy</td>\n",
       "      <td>P.O. Hunter Lisko</td>\n",
       "      <td>2022-453702</td>\n",
       "      <td>NaN</td>\n",
       "      <td>https://www.cityofmadison.com/police/newsroom/...</td>\n",
       "      <td>On Sunday evening just before 9:00 p.m., offic...</td>\n",
       "    </tr>\n",
       "  </tbody>\n",
       "</table>\n",
       "</div>"
      ],
      "text/plain": [
       "   Unnamed: 0        date          incident                       address  \\\n",
       "0           0  11/09/2022             Fraud            211 S. Carroll St.   \n",
       "1           1  11/09/2022  Traffic Incident     Beltline/S. Midvale Blvd.   \n",
       "2           2  11/08/2022  Traffic Incident  900 block E. Washington Ave.   \n",
       "3           3  11/03/2022     Missing Adult                     West Side   \n",
       "4           4  11/07/2022           Robbery          4217 W. Beltline Hwy   \n",
       "\n",
       "             officer   casenumber     updated  \\\n",
       "0  P.O. Hunter Lisko  2022-000000         NaN   \n",
       "1  P.O. Hunter Lisko  2022-457354         NaN   \n",
       "2  P.O. Hunter Lisko  2022-277138         NaN   \n",
       "3     Livia Novitzke  2022-446354  11/07/2022   \n",
       "4  P.O. Hunter Lisko  2022-453702         NaN   \n",
       "\n",
       "                                                link  \\\n",
       "0  https://www.cityofmadison.com/police/newsroom/...   \n",
       "1  https://www.cityofmadison.com/police/newsroom/...   \n",
       "2  https://www.cityofmadison.com/police/newsroom/...   \n",
       "3  https://www.cityofmadison.com/police/newsroom/...   \n",
       "4  https://www.cityofmadison.com/police/newsroom/...   \n",
       "\n",
       "                                         description  \n",
       "0  Recently, there has been an uptick in scams ta...  \n",
       "1  Yesterday afternoon at approximately 2:00 p.m....  \n",
       "2  As part of the Madison Police Department's com...  \n",
       "3  Missing is a Theodore (TJ) Weege. TJ is a whit...  \n",
       "4  On Sunday evening just before 9:00 p.m., offic...  "
      ]
     },
     "execution_count": 12,
     "metadata": {},
     "output_type": "execute_result"
    }
   ],
   "source": [
    "# First, Let us take a quick look at our dataset!\n",
    "df.head()"
   ]
  },
  {
   "cell_type": "code",
   "execution_count": 17,
   "id": "5a06dd22",
   "metadata": {},
   "outputs": [
    {
     "data": {
      "text/plain": [
       "Index(['Unnamed: 0', 'date', 'incident', 'address', 'officer', 'casenumber',\n",
       "       'updated', 'link', 'description'],\n",
       "      dtype='object')"
      ]
     },
     "execution_count": 17,
     "metadata": {},
     "output_type": "execute_result"
    }
   ],
   "source": [
    "# All Columns of the Data\n",
    "df.columns"
   ]
  },
  {
   "cell_type": "code",
   "execution_count": null,
   "id": "0d88278c",
   "metadata": {},
   "outputs": [],
   "source": [
    "# Checking values of fifth entry\n",
    "df.iloc[4] "
   ]
  },
  {
   "cell_type": "code",
   "execution_count": 16,
   "id": "9f7bf311",
   "metadata": {},
   "outputs": [
    {
     "data": {
      "text/plain": [
       "array(['Fraud', 'Traffic Incident', 'Missing Adult', 'Robbery',\n",
       "       'Weapons Violation', 'Murder/Homicide', 'Damaged Property',\n",
       "       'Disturbance', 'Information', 'Intoxicated/Impaired Driver',\n",
       "       'Arrested Person', 'Residential Burglary', 'Suspicious Person',\n",
       "       'Theft', 'Battery', 'Sexual Assault', 'Check Person',\n",
       "       'Drug Investigation'], dtype=object)"
      ]
     },
     "execution_count": 16,
     "metadata": {},
     "output_type": "execute_result"
    }
   ],
   "source": [
    "# Checking all types of Incidents reported\n",
    "df[\"incident\"].unique()"
   ]
  },
  {
   "cell_type": "code",
   "execution_count": 8,
   "id": "22a982ce",
   "metadata": {},
   "outputs": [
    {
     "data": {
      "text/plain": [
       "Unnamed: 0      0\n",
       "date            0\n",
       "incident        0\n",
       "address         0\n",
       "officer         0\n",
       "casenumber      0\n",
       "updated        46\n",
       "link            0\n",
       "description     0\n",
       "dtype: int64"
      ]
     },
     "execution_count": 8,
     "metadata": {},
     "output_type": "execute_result"
    }
   ],
   "source": [
    "# Checking if there is any missing data\n",
    "df.isnull().sum() "
   ]
  },
  {
   "cell_type": "code",
   "execution_count": 9,
   "id": "44a5554a",
   "metadata": {},
   "outputs": [
    {
     "data": {
      "text/plain": [
       "Text(0.5, 0, 'Number of Occurences')"
      ]
     },
     "execution_count": 9,
     "metadata": {},
     "output_type": "execute_result"
    },
    {
     "data": {
      "image/png": "[encoded data removed]",
      "text/plain": [
       "<Figure size 640x480 with 1 Axes>"
      ]
     },
     "metadata": {},
     "output_type": "display_data"
    }
   ],
   "source": [
    "# Plotting Top 10 Most Common Incidents\n",
    "incident_counts = df[\"incident\"].value_counts()[:10] \n",
    "fig, ax = plt.subplots()\n",
    "sns.barplot(y=incident_counts.index, x=incident_counts.values, \n",
    "            width=0.95, alpha=0.75, orient=\"h\", ax=ax)\n",
    "plt.title(\"Top 10 Most Common Incidents\")\n",
    "plt.xlabel(\"Number of Occurences\")"
   ]
  }
 ],
 "metadata": {
  "kernelspec": {
   "display_name": "Python 3 (ipykernel)",
   "language": "python",
   "name": "python3"
  },
  "language_info": {
   "codemirror_mode": {
    "name": "ipython",
    "version": 3
   },
   "file_extension": ".py",
   "mimetype": "text/x-python",
   "name": "python",
   "nbconvert_exporter": "python",
   "pygments_lexer": "ipython3",
   "version": "3.10.9"
  }
 },
 "nbformat": 4,
 "nbformat_minor": 5
}
